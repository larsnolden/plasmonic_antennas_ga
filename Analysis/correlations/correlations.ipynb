{
 "cells": [
  {
   "cell_type": "markdown",
   "metadata": {},
   "source": [
    "Show that smaller island sizes in general perform better. We can make a count of islands and their average surface area for all solutions using the contour extraction feature. Then we can compare those numbers to the solutions performance."
   ]
  },
  {
   "cell_type": "code",
   "execution_count": 1,
   "metadata": {},
   "outputs": [],
   "source": [
    "import numpy as np\n",
    "import scipy as sp\n",
    "import pandas as pd\n",
    "import cv2"
   ]
  },
  {
   "cell_type": "code",
   "execution_count": 2,
   "metadata": {},
   "outputs": [
    {
     "data": {
      "text/plain": [
       "-0.5984215642870623"
      ]
     },
     "execution_count": 2,
     "metadata": {},
     "output_type": "execute_result"
    }
   ],
   "source": [
    "solutions = pd.read_csv('./solutions_fourth_07_08.csv').dropna()\n",
    "# Check the unique solulionslionslionstions types in the 'solution' column\n",
    "solutions['solution'].apply(type).unique()\n",
    "\n",
    "# Count the number of missing values in the 'solution' column\n",
    "missing_values_count = solutions['solution'].isna().sum()\n",
    "\n",
    "# Drop rows with missing values in the 'solution' column\n",
    "solutions = solutions.dropna(subset=['solution'])\n",
    "\n",
    "# Convert the solution strings into lists of integers\n",
    "solutions['solution_list'] = solutions['solution'].str.replace('[', '', regex=False).str.replace(']', '', regex=False).str.split().apply(lambda x: [int(i) for i in x])\n",
    "\n",
    "# Calculate the area for each solution\n",
    "solutions['area'] = solutions['solution_list'].apply(sum)\n",
    "\n",
    "# Calculate the correlation between 'area' and 'fitness'\n",
    "correlation_ara_fitness = solutions['area'].corr(solutions['fitness'])\n",
    "correlation_ara_fitness"
   ]
  },
  {
   "cell_type": "markdown",
   "metadata": {},
   "source": [
    "The negative correltation of antenna area to fitness indicates that smaller antennas generally perform better"
   ]
  },
  {
   "cell_type": "code",
   "execution_count": 3,
   "metadata": {},
   "outputs": [
    {
     "data": {
      "text/html": [
       "<div>\n",
       "<style scoped>\n",
       "    .dataframe tbody tr th:only-of-type {\n",
       "        vertical-align: middle;\n",
       "    }\n",
       "\n",
       "    .dataframe tbody tr th {\n",
       "        vertical-align: top;\n",
       "    }\n",
       "\n",
       "    .dataframe thead th {\n",
       "        text-align: right;\n",
       "    }\n",
       "</style>\n",
       "<table border=\"1\" class=\"dataframe\">\n",
       "  <thead>\n",
       "    <tr style=\"text-align: right;\">\n",
       "      <th></th>\n",
       "      <th>fitness</th>\n",
       "      <th>area</th>\n",
       "      <th>number of domains</th>\n",
       "    </tr>\n",
       "  </thead>\n",
       "  <tbody>\n",
       "    <tr>\n",
       "      <th>0</th>\n",
       "      <td>0.034371</td>\n",
       "      <td>59</td>\n",
       "      <td>8</td>\n",
       "    </tr>\n",
       "    <tr>\n",
       "      <th>1</th>\n",
       "      <td>0.037928</td>\n",
       "      <td>68</td>\n",
       "      <td>6</td>\n",
       "    </tr>\n",
       "    <tr>\n",
       "      <th>2</th>\n",
       "      <td>0.023190</td>\n",
       "      <td>70</td>\n",
       "      <td>6</td>\n",
       "    </tr>\n",
       "    <tr>\n",
       "      <th>3</th>\n",
       "      <td>0.036509</td>\n",
       "      <td>61</td>\n",
       "      <td>11</td>\n",
       "    </tr>\n",
       "    <tr>\n",
       "      <th>4</th>\n",
       "      <td>0.040309</td>\n",
       "      <td>61</td>\n",
       "      <td>10</td>\n",
       "    </tr>\n",
       "  </tbody>\n",
       "</table>\n",
       "</div>"
      ],
      "text/plain": [
       "    fitness  area  number of domains\n",
       "0  0.034371    59                  8\n",
       "1  0.037928    68                  6\n",
       "2  0.023190    70                  6\n",
       "3  0.036509    61                 11\n",
       "4  0.040309    61                 10"
      ]
     },
     "execution_count": 3,
     "metadata": {},
     "output_type": "execute_result"
    }
   ],
   "source": [
    "# Function to compute the number of domains/islands for each solution\n",
    "def compute_domains(solution_list):\n",
    "    # Determine the size of the side of the square (since the antenna is 2D)\n",
    "    side = int(np.sqrt(len(solution_list)))\n",
    "    \n",
    "    # Reshape the solution list into a square matrix\n",
    "    matrix = np.array(solution_list).reshape(side, side)\n",
    "    \n",
    "    # Convert the matrix into an image\n",
    "    img = (matrix * 255).astype(np.uint8)\n",
    "    \n",
    "    # Apply threshold and find contours\n",
    "    ret, threshold = cv2.threshold(cv2.bitwise_not(img), 127, 255, 0)\n",
    "    contours, _ = cv2.findContours(threshold, cv2.RETR_TREE, cv2.CHAIN_APPROX_NONE)\n",
    "    \n",
    "    # Return the number of contours found\n",
    "    return len(contours)\n",
    "\n",
    "# Apply the function to the solutionsset\n",
    "solutions['number of domains'] = solutions['solution_list'].apply(compute_domains)\n",
    "\n",
    "# Display the solutionsset with the new column\n",
    "solutions[['fitness', 'area', 'number of domains']].head()"
   ]
  },
  {
   "cell_type": "code",
   "execution_count": 4,
   "metadata": {},
   "outputs": [
    {
     "data": {
      "text/plain": [
       "0.5444571160293314"
      ]
     },
     "execution_count": 4,
     "metadata": {},
     "output_type": "execute_result"
    }
   ],
   "source": [
    "correlation_number_of_domains_fitness = solutions['number of domains'].corr(solutions['fitness'])\n",
    "correlation_number_of_domains_fitness"
   ]
  },
  {
   "cell_type": "markdown",
   "metadata": {},
   "source": [
    "The positive correlation between number of domains and fitness indicates that a higher number of domains generally leads to a higher fitness"
   ]
  }
 ],
 "metadata": {
  "kernelspec": {
   "display_name": "plasmonicAntennas",
   "language": "python",
   "name": "python3"
  },
  "language_info": {
   "codemirror_mode": {
    "name": "ipython",
    "version": 3
   },
   "file_extension": ".py",
   "mimetype": "text/x-python",
   "name": "python",
   "nbconvert_exporter": "python",
   "pygments_lexer": "ipython3",
   "version": "3.11.0"
  },
  "orig_nbformat": 4
 },
 "nbformat": 4,
 "nbformat_minor": 2
}
